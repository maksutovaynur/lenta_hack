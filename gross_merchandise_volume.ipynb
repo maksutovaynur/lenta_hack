{
 "cells": [
  {
   "cell_type": "code",
   "execution_count": 1,
   "metadata": {},
   "outputs": [],
   "source": [
    "import pandas as pd\n",
    "from sklearn import preprocessing\n",
    "import numpy as np\n",
    "import matplotlib.pyplot as plt\n",
    "from datetime import datetime\n",
    "\n",
    "import warnings\n",
    "warnings.filterwarnings(\"ignore\")"
   ]
  },
  {
   "cell_type": "code",
   "execution_count": 2,
   "metadata": {
    "scrolled": false
   },
   "outputs": [
    {
     "name": "stdout",
     "output_type": "stream",
     "text": [
      "CPU times: user 24.4 s, sys: 35.7 s, total: 1min\n",
      "Wall time: 1min 8s\n"
     ]
    }
   ],
   "source": [
    "%%time\n",
    "trans = pd.read_parquet('./hack_data/transactions.parquet', engine='pyarrow', use_threads=True)"
   ]
  },
  {
   "cell_type": "code",
   "execution_count": 3,
   "metadata": {},
   "outputs": [],
   "source": [
    "rows_number =  10 ** 7\n",
    "trans_short = trans.iloc[:rows_number]\n",
    "\n",
    "trans_short = trans_short[['plant', 'client_id', 'chq_date', 'sales_count', 'sales_sum', 'material']]\n",
    "\n",
    "le = preprocessing.LabelEncoder()\n",
    "trans_short['client_id'] = le.fit_transform(trans_short['client_id'])\n",
    "trans_short['product_id'] = le.fit_transform(trans_short['material'])\n",
    "trans_short['shop_id'] = le.fit_transform(trans_short['plant'])\n",
    "trans_short = trans_short.drop(columns=['material', 'plant'])\n",
    "\n",
    "del trans"
   ]
  },
  {
   "cell_type": "code",
   "execution_count": 19,
   "metadata": {},
   "outputs": [],
   "source": [
    "def GMV_calculation(data, shop_id, current_date, N_prev_months=5):\n",
    "    shop_df = data[data['shop_id'] == shop_id]\n",
    "    shop_df['date'] = shop_df['chq_date'].apply(lambda x: datetime(x.year, x.month, 1, 0, 0))\n",
    "    shop_df = shop_df[['date', 'sales_sum']]\n",
    "    shop_df = shop_df.groupby(['date'], as_index=False).sum()\n",
    "\n",
    "    shop_df['months_delta'] = shop_df['date'].apply(lambda x: 12 * (current_date.year - x.year) +\\\n",
    "                                                          (current_date.month - x.month))\n",
    "\n",
    "\n",
    "    shop_df = shop_df[shop_df['months_delta'] >= 1]\n",
    "    shop_df = shop_df.sort_values(by=['months_delta'], ascending=False)\n",
    "    shop_df['month_year'] = shop_df['date'].apply(lambda x: str(x.month) + '.' + str(x.year))\n",
    "\n",
    "    month_year_lst = shop_df['month_year'].values[-N_prev_months:]\n",
    "    sales_sum_lst = shop_df['sales_sum'].values[-N_prev_months:]\n",
    "    return month_year_lst, sales_sum_lst\n",
    "\n",
    "\n",
    "shop_id = 109\n",
    "current_date = datetime(2018, 1, 20)\n",
    "\n",
    "month_year_lst, sales_sum_lst = GMV_calculation(trans_short, shop_id, current_date)"
   ]
  },
  {
   "cell_type": "markdown",
   "metadata": {},
   "source": [
    "### to csv"
   ]
  },
  {
   "cell_type": "code",
   "execution_count": 90,
   "metadata": {},
   "outputs": [],
   "source": [
    "df = pd.DataFrame(data=np.array([month_year_lst, sales_sum_lst]).T,\n",
    "                  columns=['month_year', 'GMV'])\n",
    "df.to_csv('./for_excel/gmv_shop_id_{}.csv'.format(shop_id), index=False)"
   ]
  },
  {
   "cell_type": "markdown",
   "metadata": {},
   "source": [
    "### visualization"
   ]
  },
  {
   "cell_type": "code",
   "execution_count": 20,
   "metadata": {},
   "outputs": [
    {
     "data": {
      "image/png": "[encoded data removed]",
      "text/plain": [
       "<Figure size 864x288 with 1 Axes>"
      ]
     },
     "metadata": {
      "needs_background": "light"
     },
     "output_type": "display_data"
    }
   ],
   "source": [
    "plt.figure(figsize=(12,4))\n",
    "\n",
    "plt.bar(np.arange(len(month_year_lst)), sales_sum_lst, color='blue', alpha=0.8)\n",
    "\n",
    "plt.title('Market id: {}'.format(shop_id), fontsize=16)\n",
    "plt.xlabel('Month', fontsize=14)\n",
    "plt.ylabel('Gross Merchandise Volume', fontsize=14)\n",
    "plt.xticks(np.arange(len(month_year_lst)), month_year_lst, rotation=45, fontsize=13)\n",
    "\n",
    "plt.grid()\n",
    "plt.savefig('./pics/GMV_shop_id_{}.pdf'.format(shop_id))\n",
    "plt.show()"
   ]
  }
 ],
 "metadata": {
  "kernelspec": {
   "display_name": "Python 3",
   "language": "python",
   "name": "python3"
  },
  "language_info": {
   "codemirror_mode": {
    "name": "ipython",
    "version": 3
   },
   "file_extension": ".py",
   "mimetype": "text/x-python",
   "name": "python",
   "nbconvert_exporter": "python",
   "pygments_lexer": "ipython3",
   "version": "3.7.3"
  }
 },
 "nbformat": 4,
 "nbformat_minor": 2
}
