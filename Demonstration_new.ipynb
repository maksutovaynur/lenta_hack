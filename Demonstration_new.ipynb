{
 "cells": [
  {
   "cell_type": "code",
   "execution_count": 226,
   "metadata": {},
   "outputs": [
    {
     "name": "stdout",
     "output_type": "stream",
     "text": [
      "The autoreload extension is already loaded. To reload it, use:\n",
      "  %reload_ext autoreload\n"
     ]
    },
    {
     "data": {
      "text/html": [
       "<style>.container{width: 100%}</style>"
      ],
      "text/plain": [
       "<IPython.core.display.HTML object>"
      ]
     },
     "metadata": {},
     "output_type": "display_data"
    }
   ],
   "source": [
    "%load_ext autoreload\n",
    "%autoreload 2\n",
    "import predictions_new as P\n",
    "import ipywidgets as W\n",
    "import pandas as pd\n",
    "import numpy as np\n",
    "import json\n",
    "from datetime import datetime, timedelta\n",
    "from importlib import reload\n",
    "from matplotlib import pyplot as plt\n",
    "import traceback\n",
    "from IPython.display import display, HTML, clear_output\n",
    "display(HTML(\"<style>.container{width: 100%}</style>\"))\n",
    "P = reload(P)\n",
    "%matplotlib inline"
   ]
  },
  {
   "cell_type": "code",
   "execution_count": 206,
   "metadata": {},
   "outputs": [],
   "source": [
    "conf = json.load(open(\"./ids.json\", \"r\"))\n",
    "\n",
    "selected_materials = conf[\"selected_materials\"]\n",
    "selected_plants = conf[\"selected_plants\"]\n",
    "\n",
    "selected_plants_dict = {v: i for i, v in enumerate(selected_plants)}"
   ]
  },
  {
   "cell_type": "code",
   "execution_count": 207,
   "metadata": {},
   "outputs": [
    {
     "data": {
      "text/html": [
       "<div>\n",
       "<style scoped>\n",
       "    .dataframe tbody tr th:only-of-type {\n",
       "        vertical-align: middle;\n",
       "    }\n",
       "\n",
       "    .dataframe tbody tr th {\n",
       "        vertical-align: top;\n",
       "    }\n",
       "\n",
       "    .dataframe thead th {\n",
       "        text-align: right;\n",
       "    }\n",
       "</style>\n",
       "<table border=\"1\" class=\"dataframe\">\n",
       "  <thead>\n",
       "    <tr style=\"text-align: right;\">\n",
       "      <th></th>\n",
       "      <th>client_id</th>\n",
       "      <th>sales_count</th>\n",
       "      <th>sales_sum</th>\n",
       "      <th>product_id</th>\n",
       "      <th>shop_id</th>\n",
       "    </tr>\n",
       "  </thead>\n",
       "  <tbody>\n",
       "    <tr>\n",
       "      <th>count</th>\n",
       "      <td>330427.000000</td>\n",
       "      <td>330427.000000</td>\n",
       "      <td>330427.000000</td>\n",
       "      <td>330427.000000</td>\n",
       "      <td>330427.000000</td>\n",
       "    </tr>\n",
       "    <tr>\n",
       "      <th>mean</th>\n",
       "      <td>5736.605138</td>\n",
       "      <td>1.358387</td>\n",
       "      <td>130.058386</td>\n",
       "      <td>42.813227</td>\n",
       "      <td>4.672221</td>\n",
       "    </tr>\n",
       "    <tr>\n",
       "      <th>std</th>\n",
       "      <td>3251.402627</td>\n",
       "      <td>1.665964</td>\n",
       "      <td>171.650332</td>\n",
       "      <td>28.611921</td>\n",
       "      <td>2.974433</td>\n",
       "    </tr>\n",
       "    <tr>\n",
       "      <th>min</th>\n",
       "      <td>0.000000</td>\n",
       "      <td>0.022000</td>\n",
       "      <td>0.210000</td>\n",
       "      <td>0.000000</td>\n",
       "      <td>0.000000</td>\n",
       "    </tr>\n",
       "    <tr>\n",
       "      <th>25%</th>\n",
       "      <td>2865.000000</td>\n",
       "      <td>0.836000</td>\n",
       "      <td>44.400000</td>\n",
       "      <td>17.000000</td>\n",
       "      <td>2.000000</td>\n",
       "    </tr>\n",
       "    <tr>\n",
       "      <th>50%</th>\n",
       "      <td>5829.000000</td>\n",
       "      <td>1.000000</td>\n",
       "      <td>77.790000</td>\n",
       "      <td>39.000000</td>\n",
       "      <td>5.000000</td>\n",
       "    </tr>\n",
       "    <tr>\n",
       "      <th>75%</th>\n",
       "      <td>8503.000000</td>\n",
       "      <td>1.528000</td>\n",
       "      <td>159.990000</td>\n",
       "      <td>67.000000</td>\n",
       "      <td>8.000000</td>\n",
       "    </tr>\n",
       "    <tr>\n",
       "      <th>max</th>\n",
       "      <td>11382.000000</td>\n",
       "      <td>591.500000</td>\n",
       "      <td>32520.670000</td>\n",
       "      <td>99.000000</td>\n",
       "      <td>9.000000</td>\n",
       "    </tr>\n",
       "  </tbody>\n",
       "</table>\n",
       "</div>"
      ],
      "text/plain": [
       "           client_id    sales_count      sales_sum     product_id  \\\n",
       "count  330427.000000  330427.000000  330427.000000  330427.000000   \n",
       "mean     5736.605138       1.358387     130.058386      42.813227   \n",
       "std      3251.402627       1.665964     171.650332      28.611921   \n",
       "min         0.000000       0.022000       0.210000       0.000000   \n",
       "25%      2865.000000       0.836000      44.400000      17.000000   \n",
       "50%      5829.000000       1.000000      77.790000      39.000000   \n",
       "75%      8503.000000       1.528000     159.990000      67.000000   \n",
       "max     11382.000000     591.500000   32520.670000      99.000000   \n",
       "\n",
       "             shop_id  \n",
       "count  330427.000000  \n",
       "mean        4.672221  \n",
       "std         2.974433  \n",
       "min         0.000000  \n",
       "25%         2.000000  \n",
       "50%         5.000000  \n",
       "75%         8.000000  \n",
       "max         9.000000  "
      ]
     },
     "execution_count": 207,
     "metadata": {},
     "output_type": "execute_result"
    }
   ],
   "source": [
    "data = P.read_preproc_cut_transcations_data(\n",
    "    path=\"./.data/tr.parquet\", \n",
    "    plants=selected_plants,\n",
    "    materials=selected_materials,\n",
    ")\n",
    "imp = pd.read_csv(\"./.data/imp.csv\")\n",
    "sat = pd.read_csv(\"./.data/sat.csv\")\n",
    "imp = imp[imp[\"material\"].isin(selected_materials)].reset_index()[[\"material\", \"g_i_c\", \"plant\"]]\n",
    "desc = data.describe()\n",
    "desc"
   ]
  },
  {
   "cell_type": "code",
   "execution_count": 244,
   "metadata": {},
   "outputs": [],
   "source": [
    "P = reload(P)\n",
    "DPI = 120\n",
    "def show_predictions(shop_id, product_id, today, predict_days):\n",
    "    today = pd.to_datetime(today)\n",
    "    print(\"Loading...\")\n",
    "    \n",
    "    fig, ax = plt.subplots(2, 2, figsize=(8, 4), dpi=DPI)\n",
    "    plt.margins(0, 0)\n",
    "    \n",
    "    ax_demand = ax[0][0]\n",
    "    demand, prev_demand = P.predict_demand(data, product_id=product_id, shop_id=shop_id, current_date=today, prediction_length=predict_days)\n",
    "    x = list(range(len(demand)))\n",
    "    prev_demand = prev_demand[-20:]\n",
    "    x_pdemand = list(range(-len(prev_demand), 0))\n",
    "    ax_demand.bar(x, demand, label=\"prediction\")\n",
    "    ax_demand.bar(x_pdemand, prev_demand, label=\"real data\")\n",
    "    ax_demand.set_title(f\"Demand prediction\")\n",
    "    ax_demand.set_xlabel(\"Future days\")\n",
    "    ax_demand.set_ylim(0, max(max(demand), max(prev_demand)))\n",
    "    \n",
    "    ax_stock = ax[0][1]\n",
    "    stock, prev_stock= P.predict_stock_quantity(data, product_id=product_id, shop_id=shop_id, current_date=today, prediction_length=predict_days)\n",
    "    prev_stock = prev_stock[-20:]\n",
    "    x_pstock = list(range(-len(prev_stock), 0))\n",
    "    ax_stock.bar(x_pstock, prev_stock, label=\"real data\")\n",
    "    ax_stock.bar(x, stock, label=\"prediction\")\n",
    "    ax_stock.set_title(f\"Stock quantity prediction\")\n",
    "    ax_stock.set_xlabel(\"Future days\")\n",
    "    ax_stock.set_ylim(0, max(max(stock), max(prev_stock)))\n",
    "    \n",
    "    ax_sat = ax[1][0]\n",
    "    sub_sat = sat[sat[\"plant\"]==selected_plants[shop_id]]\n",
    "    sub_sat = sub_sat[pd.to_datetime(sub_sat[\"chq_date\"])==today]\n",
    "    y, x = np.histogram(sub_sat[\"satisfaction\"])\n",
    "    x = np.convolve(x, np.ones((2,))/2, mode='valid')\n",
    "    ax_sat.bar(x, y, (x[1] - x[0])*0.9)\n",
    "    ax_sat.set_title(\"Daily mean customer satisfaction\")\n",
    "    ax_sat.set_ylabel(\"Amount of customers\")\n",
    "    ax_sat.set_xlabel(\"Satisfaction score\")\n",
    "    \n",
    "    ax_imp = ax[1][1]\n",
    "    loc_imp_ = imp[imp[\"plant\"]==selected_plants[shop_id]].reset_index()\n",
    "    loc_imp_ = loc_imp_[[\"material\", \"g_i_c\"]].rename(columns={\"g_i_c\": \"General Importance Score\"})\n",
    "    loc_imp = loc_imp_.head()\n",
    "    ax_imp.set_title(\"Top 5 most crucial goods\")\n",
    "    ax_imp.table(cellText=loc_imp.values, colLabels=loc_imp.columns, loc='best')\n",
    "    loc_imp = loc_imp_[loc_imp_[\"material\"] == selected_materials[product_id]]\n",
    "    loc_imp = loc_imp.rename(columns={\"material\": \"Selected Material\"})\n",
    "    ax_imp.table(cellText=loc_imp.values, colLabels=loc_imp.columns, loc='bottom')\n",
    "    ax_imp.axis('off')\n",
    "    ax_imp.axis('tight')\n",
    "    ax_imp.set_ylim(0.2, 0.8)\n",
    "    \n",
    "    fig.tight_layout()\n",
    "    clear_output()\n",
    "    print(\"Done.\")\n",
    "    return None"
   ]
  },
  {
   "cell_type": "code",
   "execution_count": 248,
   "metadata": {},
   "outputs": [
    {
     "data": {
      "application/vnd.jupyter.widget-view+json": {
       "model_id": "72faf2fa414b456789ec7be2b6d87608",
       "version_major": 2,
       "version_minor": 0
      },
      "text/plain": [
       "interactive(children=(Dropdown(description='shop_id', index=2, options=(0, 1, 2, 3, 4, 5, 6, 7, 8, 9), value=2…"
      ]
     },
     "metadata": {},
     "output_type": "display_data"
    }
   ],
   "source": [
    "W.interactive(\n",
    "    show_predictions,\n",
    "    shop_id = W.Dropdown(options=list(range(int(desc[\"shop_id\"][\"max\"]) + 1)), value=2),\n",
    "    product_id = W.IntSlider(min=0, max=int(desc[\"product_id\"][\"max\"]), value=24),\n",
    "    predict_days=W.IntSlider(min=3, max=15, value=14),\n",
    "    today=W.DatePicker(value=data[\"chq_date\"].max() - timedelta(days=5))\n",
    ")"
   ]
  },
  {
   "cell_type": "code",
   "execution_count": null,
   "metadata": {},
   "outputs": [],
   "source": []
  }
 ],
 "metadata": {
  "kernelspec": {
   "display_name": "Python 3",
   "language": "python",
   "name": "python3"
  },
  "language_info": {
   "codemirror_mode": {
    "name": "ipython",
    "version": 3
   },
   "file_extension": ".py",
   "mimetype": "text/x-python",
   "name": "python",
   "nbconvert_exporter": "python",
   "pygments_lexer": "ipython3",
   "version": "3.8.5"
  }
 },
 "nbformat": 4,
 "nbformat_minor": 4
}
