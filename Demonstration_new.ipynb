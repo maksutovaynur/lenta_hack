{
 "cells": [
  {
   "cell_type": "code",
   "execution_count": 1,
   "metadata": {},
   "outputs": [
    {
     "data": {
      "text/html": [
       "<style>.container{width: 100%}</style>"
      ],
      "text/plain": [
       "<IPython.core.display.HTML object>"
      ]
     },
     "metadata": {},
     "output_type": "display_data"
    }
   ],
   "source": [
    "%load_ext autoreload\n",
    "%autoreload 2\n",
    "import predictions_new as P\n",
    "import ipywidgets as W\n",
    "import pandas as pd\n",
    "import numpy as np\n",
    "from datetime import datetime, timedelta\n",
    "from importlib import reload\n",
    "from matplotlib import pyplot as plt\n",
    "import traceback\n",
    "from IPython.display import display, HTML\n",
    "display(HTML(\"<style>.container{width: 100%}</style>\"))\n",
    "P = reload(P)"
   ]
  },
  {
   "cell_type": "code",
   "execution_count": 2,
   "metadata": {},
   "outputs": [],
   "source": [
    "selected_materials = [    \n",
    "    'ef7bf412117548cb80b3f3b33a12977d',  '7a8675a8f6988ebcbefd062fabaccc85',  '6278f48a43fb0a23036b3a11c92e726c',  '753e100607ecf3e68098739b81e0a645',\n",
    "    '119a9ea3a832472e1c163e5c1afba59e',  '33306ccd877e73c388652739869d3dc7',  'c8ac520562ba934dd67cbf0f060c4252',  '7ff4d25fcbdba033c06e2ba25ae6fc77',\n",
    "    '5a008f40c57611feda53dbd9935e7189',  '1accaece89aad30aeab8ee5a72a2ecf0',  '767aaeb00eb1c7dd273ba954b3e2f4b8',  '911d7361089a37c2a6488a548b4f06a8',\n",
    "    'ca544f2ea6030dae031adc5a72dde275',  '6cfcaf43bff88d5d645436f640ec735c',  'd50b11b02e15deace91e3b4602a78c5d',  '441f83db20dab8cbdd080b53307836e2',\n",
    "    '232cfe8b28970434f685b737737b26d4',  '49634c5bef39b4402e0ca16eed2a0292',  '6c5fc0444aefd3430c9866c45b6e1032',  '8f4b2b5d481140b01c5b20bbf493b2b9',\n",
    "    '5e3039a269ff005f2c76cea16c0cf783',  '0b689fd70e79d5010e397b4c453e8460',  '0e2823baca6c23c591c96e7399a74ae6',  '1cbaaeb2212bbbe9d458ca9b81d74db7',\n",
    "    'c8cd5ba2b1cc5fa6bc1d1190a331022e',  '76608b1b1d38384fcac3e2b14e6ec0c9',  'ec2c52e5afda0ed97523d2bbe69abb75',  '485d1663d71b71333972a03adba86ac1',\n",
    "    '303df0a787efa43cded6fd1ca525ea23',  'eb23a7cc9c97e7cb82c9e69fdaaefe46',  'bff9e04e1b854068f51e10b18482008e',  'c8360c69412cccd193751f246e3beb79',\n",
    "    '962b727f1de1e02bb2a538fd479a8ceb',  '142d63107737a448dc2dfe2dcd0154b8',  'ab32d6b6cbb1ad526aaf3e22914644ec',  '7bf5e8bd366da299e6b17e4febb40c39',\n",
    "    '5203102c86af0924829cb4d79c7f160b',  'b3da9f6c20f5f7d304e19b6fc1d9cf60',  'd6b917615b32dcbbd0e78c10428d208a',  'fcd6037cb75c6211110747eacf3e4200',\n",
    "    'c100ca8c79220a5276527b3778146d1f',  '8a5c223e7fe750edc05ff279c18f652f',  '90bfc6482f0e7cd4c406d43adef03781',  '452a845d0d1d57e27aa080fd7c952eea',\n",
    "    '93c2501c8c39b1d2476abb3d73739933',  'a82bafb7c49b928c59143082375db8d8',  '5015a53202bdb42a71ace75a167fb003',  'e7a010552f05a50c8462cf1753e3f929',\n",
    "    'b70ddcb63e68237dd48abee0b842d6d0',  '2fcb9d88e464d3df632ffdb0746ec984',  '5853283dece1f7a4da50cc4bebd5b116',  'b5a6bbeeb9ef82b186e0479701dbadf5',\n",
    "    '55ad93c2949b2ac7b3c0fe4dae8ead3d',  'e10b6df7ea13a93bbbf054cbf58f6998',  'b477e1afeca3472839e93b56df1a54de',  '6be0907d36fbbf5f7378f32c46f37943',\n",
    "    '83af95945bd2b515576e30190f58d6f2',  '5712015edbaa4aabea88ee07149ef22e',  'b6bce08d20ebb0964a9f9d507894ae41',  'a68c3af6a344b97f58973b2a8a815e3a',\n",
    "  ]"
   ]
  },
  {
   "cell_type": "code",
   "execution_count": 4,
   "metadata": {},
   "outputs": [],
   "source": [
    "data = P.read_preproc_cut_transcations_data(\n",
    "    path=\"./.data/tr.parquet\", \n",
    "    plants=[\n",
    "        '95b09698fda1f64af16708ffb859eab9',\n",
    "        '29549a71a57f587d88209b9c1f1b7999',\n",
    "        '6858fb45a3d3aef7c29322d3b68dffd1',\n",
    "        '43692f46e3168b32434dd507ebc85dbe',\n",
    "        '6950aac2d7932e1f1a4c3cf6ada1316e',\n",
    "        'ae2bac2e4b4da805d01b2952d7e35ba4',\n",
    "        '7f8bb0fe8b33780a08fe6b60ced14529',\n",
    "        '0e7e3cf0ded4d9db8b376b317c007f99',\n",
    "        '6bcf53c2bdbee891ffaca1e612b0076c',\n",
    "        '2ebe25dd3a566f36f80d55440d3c3834'\n",
    "    ],\n",
    "    materials=selected_materials,\n",
    "#     rows_number=10**6\n",
    ")\n",
    "# dC_raw = pd.read_csv(\"./hack_data/clients.csv\")\n",
    "# dP_raw = pd.read_csv(\"./hack_data/plants.csv\")\n",
    "# dM_raw = pd.read_csv(\"./hack_data/materials.csv\")"
   ]
  },
  {
   "cell_type": "code",
   "execution_count": null,
   "metadata": {},
   "outputs": [],
   "source": [
    "imp = pd.read_csv(\"./.data/imp.csv\")\n",
    "sat = pd.read_csv(\"./.data/sat.csv\")"
   ]
  },
  {
   "cell_type": "code",
   "execution_count": 5,
   "metadata": {},
   "outputs": [],
   "source": [
    "desc = data.describe()"
   ]
  },
  {
   "cell_type": "code",
   "execution_count": 6,
   "metadata": {},
   "outputs": [
    {
     "data": {
      "text/html": [
       "<div>\n",
       "<style scoped>\n",
       "    .dataframe tbody tr th:only-of-type {\n",
       "        vertical-align: middle;\n",
       "    }\n",
       "\n",
       "    .dataframe tbody tr th {\n",
       "        vertical-align: top;\n",
       "    }\n",
       "\n",
       "    .dataframe thead th {\n",
       "        text-align: right;\n",
       "    }\n",
       "</style>\n",
       "<table border=\"1\" class=\"dataframe\">\n",
       "  <thead>\n",
       "    <tr style=\"text-align: right;\">\n",
       "      <th></th>\n",
       "      <th>client_id</th>\n",
       "      <th>sales_count</th>\n",
       "      <th>sales_sum</th>\n",
       "      <th>product_id</th>\n",
       "      <th>shop_id</th>\n",
       "    </tr>\n",
       "  </thead>\n",
       "  <tbody>\n",
       "    <tr>\n",
       "      <th>count</th>\n",
       "      <td>149991.000000</td>\n",
       "      <td>149991.000000</td>\n",
       "      <td>149991.000000</td>\n",
       "      <td>149991.000000</td>\n",
       "      <td>149991.000000</td>\n",
       "    </tr>\n",
       "    <tr>\n",
       "      <th>mean</th>\n",
       "      <td>4857.874659</td>\n",
       "      <td>1.430924</td>\n",
       "      <td>133.582518</td>\n",
       "      <td>23.657919</td>\n",
       "      <td>4.641058</td>\n",
       "    </tr>\n",
       "    <tr>\n",
       "      <th>std</th>\n",
       "      <td>2778.921753</td>\n",
       "      <td>2.128096</td>\n",
       "      <td>183.790701</td>\n",
       "      <td>17.491249</td>\n",
       "      <td>2.958318</td>\n",
       "    </tr>\n",
       "    <tr>\n",
       "      <th>min</th>\n",
       "      <td>0.000000</td>\n",
       "      <td>0.040000</td>\n",
       "      <td>0.210000</td>\n",
       "      <td>0.000000</td>\n",
       "      <td>0.000000</td>\n",
       "    </tr>\n",
       "    <tr>\n",
       "      <th>25%</th>\n",
       "      <td>2401.000000</td>\n",
       "      <td>0.844000</td>\n",
       "      <td>42.360000</td>\n",
       "      <td>7.000000</td>\n",
       "      <td>2.000000</td>\n",
       "    </tr>\n",
       "    <tr>\n",
       "      <th>50%</th>\n",
       "      <td>4924.000000</td>\n",
       "      <td>1.000000</td>\n",
       "      <td>74.990000</td>\n",
       "      <td>21.000000</td>\n",
       "      <td>5.000000</td>\n",
       "    </tr>\n",
       "    <tr>\n",
       "      <th>75%</th>\n",
       "      <td>7230.000000</td>\n",
       "      <td>1.596000</td>\n",
       "      <td>166.750000</td>\n",
       "      <td>36.000000</td>\n",
       "      <td>8.000000</td>\n",
       "    </tr>\n",
       "    <tr>\n",
       "      <th>max</th>\n",
       "      <td>9679.000000</td>\n",
       "      <td>591.500000</td>\n",
       "      <td>32520.670000</td>\n",
       "      <td>59.000000</td>\n",
       "      <td>9.000000</td>\n",
       "    </tr>\n",
       "  </tbody>\n",
       "</table>\n",
       "</div>"
      ],
      "text/plain": [
       "           client_id    sales_count      sales_sum     product_id  \\\n",
       "count  149991.000000  149991.000000  149991.000000  149991.000000   \n",
       "mean     4857.874659       1.430924     133.582518      23.657919   \n",
       "std      2778.921753       2.128096     183.790701      17.491249   \n",
       "min         0.000000       0.040000       0.210000       0.000000   \n",
       "25%      2401.000000       0.844000      42.360000       7.000000   \n",
       "50%      4924.000000       1.000000      74.990000      21.000000   \n",
       "75%      7230.000000       1.596000     166.750000      36.000000   \n",
       "max      9679.000000     591.500000   32520.670000      59.000000   \n",
       "\n",
       "             shop_id  \n",
       "count  149991.000000  \n",
       "mean        4.641058  \n",
       "std         2.958318  \n",
       "min         0.000000  \n",
       "25%         2.000000  \n",
       "50%         5.000000  \n",
       "75%         8.000000  \n",
       "max         9.000000  "
      ]
     },
     "execution_count": 6,
     "metadata": {},
     "output_type": "execute_result"
    }
   ],
   "source": [
    "desc"
   ]
  },
  {
   "cell_type": "code",
   "execution_count": 13,
   "metadata": {},
   "outputs": [],
   "source": [
    "def show_predictions(shop_id, product_id, today, predict_days):\n",
    "    today = pd.to_datetime(today)\n",
    "    demand = P.predict_demand(data, product_id=product_id, shop_id=shop_id, current_date=today, prediction_length=predict_days)\n",
    "    stock = P.predict_stock_quantity(data, product_id=product_id, shop_id=shop_id, current_date=today, prediction_length=predict_days)\n",
    "    fig, ax = plt.subplots(1, 2, figsize=(15, 3))\n",
    "    x = list(range(predict_days)) #[today + timedelta(days=i) for i in ]\n",
    "    ax[0].bar(x, demand)\n",
    "    ax[0].set_title(f\"Demand prediction for the good #{product_id} in the shop #{shop_id}\")\n",
    "    ax[0].set_xlabel(\"Future days\")\n",
    "    ax[1].bar(x, stock)\n",
    "    ax[1].set_title(f\"Stock quantity prediction for the good #{product_id} in the shop #{shop_id}\")\n",
    "    ax[1].set_xlabel(\"Future days\")\n",
    "    return fig"
   ]
  },
  {
   "cell_type": "code",
   "execution_count": 14,
   "metadata": {
    "scrolled": false
   },
   "outputs": [
    {
     "data": {
      "application/vnd.jupyter.widget-view+json": {
       "model_id": "968cf83af1d842938c6377d19dec8f81",
       "version_major": 2,
       "version_minor": 0
      },
      "text/plain": [
       "interactive(children=(Dropdown(description='shop_id', options=(0, 1, 2, 3, 4, 5, 6, 7, 8, 9), value=0), IntSli…"
      ]
     },
     "metadata": {},
     "output_type": "display_data"
    }
   ],
   "source": [
    "W.interactive(\n",
    "    show_predictions,\n",
    "    shop_id = list(range(int(desc[\"shop_id\"][\"max\"]) + 1)),\n",
    "    product_id = W.IntSlider(min=0, max=int(desc[\"product_id\"][\"max\"]), value=10),\n",
    "    predict_days=W.IntSlider(min=3, max=15, value=14),\n",
    "    today=W.DatePicker(value=data[\"chq_date\"].max() - timedelta(days=5))\n",
    ")"
   ]
  },
  {
   "cell_type": "code",
   "execution_count": null,
   "metadata": {},
   "outputs": [],
   "source": []
  }
 ],
 "metadata": {
  "kernelspec": {
   "display_name": "Python 3",
   "language": "python",
   "name": "python3"
  },
  "language_info": {
   "codemirror_mode": {
    "name": "ipython",
    "version": 3
   },
   "file_extension": ".py",
   "mimetype": "text/x-python",
   "name": "python",
   "nbconvert_exporter": "python",
   "pygments_lexer": "ipython3",
   "version": "3.8.5"
  }
 },
 "nbformat": 4,
 "nbformat_minor": 4
}
